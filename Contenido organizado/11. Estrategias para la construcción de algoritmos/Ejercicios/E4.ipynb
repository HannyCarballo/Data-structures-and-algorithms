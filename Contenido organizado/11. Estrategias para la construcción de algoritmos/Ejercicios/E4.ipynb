{
 "cells": [
  {
   "cell_type": "code",
   "execution_count": 1,
   "metadata": {},
   "outputs": [
    {
     "name": "stdout",
     "output_type": "stream",
     "text": [
      "[1, 4, 7, 12, 32, 36, 54, 78, 87, 90]\n"
     ]
    }
   ],
   "source": [
    "def merge(left, right):\n",
    "    result = []\n",
    "    left_idx, right_idx = 0, 0\n",
    "    while left_idx < len(left) and right_idx < len(right):\n",
    "        if left[left_idx] <= right[right_idx]:\n",
    "            result.append(left[left_idx])\n",
    "            left_idx += 1\n",
    "        else:\n",
    "            result.append(right[right_idx])\n",
    "            right_idx += 1\n",
    "    if left:\n",
    "        result.extend(left[left_idx:])\n",
    "    if right:\n",
    "        result.extend(right[right_idx:])\n",
    "    return result\n",
    "def merge_sort(m):\n",
    "    if len(m) <= 1:\n",
    "        return m\n",
    "    middle = len(m) //2\n",
    "    left = m[:middle]\n",
    "    right = m[middle:]\n",
    "    left = merge_sort(left) \n",
    "    right = merge_sort(right)\n",
    "    return list(merge(left, right))\n",
    "lista1=[4,12,87,1,32,54,36,78,90,7]\n",
    "print(merge_sort(lista1))"
   ]
  }
 ],
 "metadata": {
  "interpreter": {
   "hash": "8fc27474a15b95a2288e6c118810aa10a65b1f407251d0b03005ad12dc3f43c6"
  },
  "kernelspec": {
   "display_name": "Python 3.9.7 ('base')",
   "language": "python",
   "name": "python3"
  },
  "language_info": {
   "codemirror_mode": {
    "name": "ipython",
    "version": 3
   },
   "file_extension": ".py",
   "mimetype": "text/x-python",
   "name": "python",
   "nbconvert_exporter": "python",
   "pygments_lexer": "ipython3",
   "version": "3.9.7"
  },
  "orig_nbformat": 4
 },
 "nbformat": 4,
 "nbformat_minor": 2
}
