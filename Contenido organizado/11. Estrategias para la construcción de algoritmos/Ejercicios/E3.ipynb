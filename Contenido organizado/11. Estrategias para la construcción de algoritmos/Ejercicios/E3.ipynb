{
 "cells": [
  {
   "cell_type": "code",
   "execution_count": 3,
   "metadata": {},
   "outputs": [],
   "source": [
    "def MinMax(L):\n",
    "    if len(L) == 1:\n",
    "        return (L[0], L[0])\n",
    "    elif len(L) == 2:\n",
    "        if L[0] <= L[1]:\n",
    "            return (L[0], L[1])\n",
    "        else:\n",
    "            return (L[1], L[0])\n",
    "    else:\n",
    "        mid = len(L)/2\n",
    "        (minL, maxL) = MinMax(L[:int (mid)])\n",
    "        (minR, maxR) = MinMax (L[int(mid):])\n",
    "        if minL <= minR:\n",
    "            min = minL\n",
    "        else:\n",
    "            min = minR\n",
    "        if maxL >= maxR:\n",
    "            max = maxL\n",
    "        else:\n",
    "            max = maxR\n",
    "        return (min, max)"
   ]
  },
  {
   "cell_type": "code",
   "execution_count": 4,
   "metadata": {},
   "outputs": [
    {
     "name": "stdout",
     "output_type": "stream",
     "text": [
      "los valores son:  (1, 100)\n"
     ]
    }
   ],
   "source": [
    "def principal ():\n",
    "    lista=[3,10,32,100,4,76,45,32,17,12,1]\n",
    "    print(\"los valores son: \", MinMax(lista))\n",
    "principal()"
   ]
  }
 ],
 "metadata": {
  "interpreter": {
   "hash": "8fc27474a15b95a2288e6c118810aa10a65b1f407251d0b03005ad12dc3f43c6"
  },
  "kernelspec": {
   "display_name": "Python 3.9.7 ('base')",
   "language": "python",
   "name": "python3"
  },
  "language_info": {
   "codemirror_mode": {
    "name": "ipython",
    "version": 3
   },
   "file_extension": ".py",
   "mimetype": "text/x-python",
   "name": "python",
   "nbconvert_exporter": "python",
   "pygments_lexer": "ipython3",
   "version": "3.9.7"
  },
  "orig_nbformat": 4
 },
 "nbformat": 4,
 "nbformat_minor": 2
}
