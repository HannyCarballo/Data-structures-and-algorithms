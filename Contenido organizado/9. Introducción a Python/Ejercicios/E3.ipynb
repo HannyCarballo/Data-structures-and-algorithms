{
 "cells": [
  {
   "cell_type": "markdown",
   "metadata": {},
   "source": [
    "Ejercicio propuesto."
   ]
  },
  {
   "cell_type": "code",
   "execution_count": 3,
   "metadata": {},
   "outputs": [
    {
     "name": "stdout",
     "output_type": "stream",
     "text": [
      "En el sistema solar hay 8 planetas\n",
      "El último planeta es Neptuno\n",
      "Los planetas mas cercanos al sol que Tierra son\n",
      "['Mercurio', 'Venus']\n",
      "Los planetas mas lejanos al sol que Tierra son\n",
      "['Marte', 'Jupiter', 'Saturno', 'Urano', 'Neptuno']\n"
     ]
    }
   ],
   "source": [
    "#Ejercicio propuesto\n",
    "#Lista de planetas\n",
    "planetas=['Mercurio', 'Venus', 'Tierra', 'Marte', 'Jupiter', 'Saturno', 'Urano', 'Neptuno']\n",
    "\n",
    "#Pedirle al alumno el número de planetas que hay en el sistema solar\n",
    "num_planetas=len(planetas)\n",
    "print('En el sistema solar hay', num_planetas, 'planetas')\n",
    "\n",
    "#Pedirle al alumno el ultimo planeta del sistema solar\n",
    "print('El último planeta es', planetas[-1])\n",
    "\n",
    "#El alumno deberá añadir una opción para pedirle al usuario el nombre de un planeta\n",
    "nombre_planeta=input(\"Porfavor, ingresa el nombre de un planeta del sistema solar.\\n Nota: Usa una letra mayuscula para comenzar el nombre del planeta\")\n",
    "\n",
    "# Busca el planeta en la lista\n",
    "planeta_index = planetas.index(nombre_planeta)\n",
    "\n",
    "# Muestra los planetas más cercanos al sol\n",
    "print('Los planetas mas cercanos al sol que ' + nombre_planeta, 'son')\n",
    "print(planetas[0:planeta_index])\n",
    "\n",
    "# Muestra los planetas más lejanos al sol\n",
    "print('Los planetas mas lejanos al sol que ' + nombre_planeta, 'son')\n",
    "print(planetas[planeta_index+1:])"
   ]
  }
 ],
 "metadata": {
  "interpreter": {
   "hash": "d0b961c39323ef39876d03b71f85b7ec3e15ae0ea90059c9cad3804579590376"
  },
  "kernelspec": {
   "display_name": "Python 3.9.7 64-bit",
   "language": "python",
   "name": "python3"
  },
  "language_info": {
   "codemirror_mode": {
    "name": "ipython",
    "version": 3
   },
   "file_extension": ".py",
   "mimetype": "text/x-python",
   "name": "python",
   "nbconvert_exporter": "python",
   "pygments_lexer": "ipython3",
   "version": "3.9.7"
  },
  "orig_nbformat": 4
 },
 "nbformat": 4,
 "nbformat_minor": 2
}
