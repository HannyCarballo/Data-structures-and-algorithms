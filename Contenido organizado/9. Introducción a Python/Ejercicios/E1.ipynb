{
 "cells": [
  {
   "cell_type": "markdown",
   "metadata": {},
   "source": [
    "Carballo Ramírez Hanny\n",
    "Práctica 9. Introducción a Python (I)"
   ]
  },
  {
   "cell_type": "markdown",
   "metadata": {},
   "source": [
    "a) Convertir de una cantidad dada en pies, a metros"
   ]
  },
  {
   "cell_type": "code",
   "execution_count": 2,
   "metadata": {},
   "outputs": [
    {
     "name": "stdout",
     "output_type": "stream",
     "text": [
      "La cantidad que ingresaste convertida a metros es: 9.144 m\n"
     ]
    }
   ],
   "source": [
    "# Se almacenará lo que ingrese el usuario\n",
    "cantidad=input ('Ingresa la cantidad en pies que deseas convertir')\n",
    "\n",
    "# Input devuelve valores de cadena, se usará int para convertirlos a números enteros\n",
    "cantidad=int (cantidad)\n",
    "\n",
    "# Convirtiendo de pies a metros\n",
    "metros= cantidad*0.3048\n",
    "print(\"La cantidad que ingresaste convertida a metros es:\", metros, \"m\")"
   ]
  },
  {
   "cell_type": "markdown",
   "metadata": {},
   "source": [
    "b) Convertir de una distancia dada en metros a pies"
   ]
  },
  {
   "cell_type": "code",
   "execution_count": 4,
   "metadata": {},
   "outputs": [
    {
     "name": "stdout",
     "output_type": "stream",
     "text": [
      "La cantidad que ingresaste convertida a pies es: 4048.556430446194 ft\n"
     ]
    }
   ],
   "source": [
    "# Se almacenará lo que ingrese el usuario\n",
    "cantidad1=input ('Ingresa la cantidad en metros que deseas convertir')\n",
    "\n",
    "# Input devuelve valores de cadena, se usará int para convertirlos a números enteros\n",
    "cantidad1=int (cantidad1)\n",
    "\n",
    "# Convirtiendo de metros a pies\n",
    "pies= cantidad1/0.3048\n",
    "print(\"La cantidad que ingresaste convertida a pies es:\", pies, \"ft\")"
   ]
  },
  {
   "cell_type": "markdown",
   "metadata": {},
   "source": [
    "c) Convertir de una temperatura dada en centígrados a Fahrenheit"
   ]
  },
  {
   "cell_type": "code",
   "execution_count": 6,
   "metadata": {},
   "outputs": [
    {
     "name": "stdout",
     "output_type": "stream",
     "text": [
      "La temperatura que ingresaste convertida a grados Fahrenheit es: 113.0 °F\n"
     ]
    }
   ],
   "source": [
    "# Se almacenará lo que ingrese el usuario\n",
    "cantidad2=input ('Ingresa la temperatura en grados centígrados que deseas convertir')\n",
    "\n",
    "# Input devuelve valores de cadena, se usará int para convertirlos a números enteros\n",
    "cantidad2=int (cantidad2)\n",
    "\n",
    "# Convirtiendo de centigrados a Fahrenheit\n",
    "Fahrenheit= (cantidad2*1.8)+32\n",
    "print(\"La temperatura que ingresaste convertida a grados Fahrenheit es:\", Fahrenheit, \"°F\")"
   ]
  },
  {
   "cell_type": "markdown",
   "metadata": {},
   "source": [
    "d) Convertir de una temperatura dada en Fahrenheit a centígrados"
   ]
  },
  {
   "cell_type": "code",
   "execution_count": 8,
   "metadata": {},
   "outputs": [
    {
     "name": "stdout",
     "output_type": "stream",
     "text": [
      "La temperatura que ingresaste convertida a grados centígrados es: 304.44444444444446 °C\n"
     ]
    }
   ],
   "source": [
    "# Se almacenará lo que ingrese el usuario\n",
    "cantidad3=input ('Ingresa la temperatura en grados Fahrenheit que deseas convertir')\n",
    "\n",
    "# Input devuelve valores de cadena, se usará int para convertirlos a números enteros\n",
    "cantidad3=int (cantidad3)\n",
    "\n",
    "# Convirtiendo de Fahrenheit a centigrados \n",
    "centigrados= (cantidad3-32)/1.8\n",
    "print(\"La temperatura que ingresaste convertida a grados centígrados es:\", centigrados, \"°C\")"
   ]
  }
 ],
 "metadata": {
  "interpreter": {
   "hash": "d0b961c39323ef39876d03b71f85b7ec3e15ae0ea90059c9cad3804579590376"
  },
  "kernelspec": {
   "display_name": "Python 3.9.7 64-bit",
   "language": "python",
   "name": "python3"
  },
  "language_info": {
   "codemirror_mode": {
    "name": "ipython",
    "version": 3
   },
   "file_extension": ".py",
   "mimetype": "text/x-python",
   "name": "python",
   "nbconvert_exporter": "python",
   "pygments_lexer": "ipython3",
   "version": "3.9.7"
  },
  "orig_nbformat": 4
 },
 "nbformat": 4,
 "nbformat_minor": 2
}
